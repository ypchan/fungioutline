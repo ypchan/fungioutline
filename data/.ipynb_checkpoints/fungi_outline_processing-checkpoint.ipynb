{
 "cells": [
  {
   "cell_type": "code",
   "execution_count": 1,
   "id": "8990208a-6a2b-47f1-a6ce-27b68b364c68",
   "metadata": {},
   "outputs": [
    {
     "name": "stderr",
     "output_type": "stream",
     "text": [
      "Warning message:\n",
      "\"package 'usethis' was built under R version 4.3.3\"\n",
      "Warning message:\n",
      "\"package 'devtools' was built under R version 4.3.3\"\n",
      "Warning message:\n",
      "\"package 'roxygen2' was built under R version 4.3.3\"\n"
     ]
    }
   ],
   "source": [
    "library(usethis)\n",
    "library(devtools)\n",
    "library(roxygen2)"
   ]
  },
  {
   "cell_type": "code",
   "execution_count": 2,
   "id": "dea70bd1-2122-42a9-ac72-d9865a841a34",
   "metadata": {},
   "outputs": [
    {
     "name": "stderr",
     "output_type": "stream",
     "text": [
      "Your system is ready to build packages!\n",
      "\n"
     ]
    }
   ],
   "source": [
    "has_devel()"
   ]
  },
  {
   "cell_type": "code",
   "execution_count": 3,
   "id": "34e01737-4900-4ffe-bdb6-5dd14d12084b",
   "metadata": {},
   "outputs": [
    {
     "name": "stderr",
     "output_type": "stream",
     "text": [
      "Warning message:\n",
      "\"package 'ggplot2' was built under R version 4.3.3\"\n",
      "Warning message:\n",
      "\"package 'tidyr' was built under R version 4.3.3\"\n",
      "Warning message:\n",
      "\"package 'readr' was built under R version 4.3.3\"\n",
      "Warning message:\n",
      "\"package 'purrr' was built under R version 4.3.3\"\n",
      "Warning message:\n",
      "\"package 'dplyr' was built under R version 4.3.3\"\n",
      "Warning message:\n",
      "\"package 'stringr' was built under R version 4.3.3\"\n",
      "Warning message:\n",
      "\"package 'lubridate' was built under R version 4.3.3\"\n",
      "── \u001b[1mAttaching core tidyverse packages\u001b[22m ──────────────────────── tidyverse 2.0.0 ──\n",
      "\u001b[32m✔\u001b[39m \u001b[34mdplyr    \u001b[39m 1.1.4     \u001b[32m✔\u001b[39m \u001b[34mreadr    \u001b[39m 2.1.5\n",
      "\u001b[32m✔\u001b[39m \u001b[34mforcats  \u001b[39m 1.0.0     \u001b[32m✔\u001b[39m \u001b[34mstringr  \u001b[39m 1.5.1\n",
      "\u001b[32m✔\u001b[39m \u001b[34mggplot2  \u001b[39m 3.5.1     \u001b[32m✔\u001b[39m \u001b[34mtibble   \u001b[39m 3.2.1\n",
      "\u001b[32m✔\u001b[39m \u001b[34mlubridate\u001b[39m 1.9.4     \u001b[32m✔\u001b[39m \u001b[34mtidyr    \u001b[39m 1.3.1\n",
      "\u001b[32m✔\u001b[39m \u001b[34mpurrr    \u001b[39m 1.0.2     \n",
      "── \u001b[1mConflicts\u001b[22m ────────────────────────────────────────── tidyverse_conflicts() ──\n",
      "\u001b[31m✖\u001b[39m \u001b[34mdplyr\u001b[39m::\u001b[32mfilter()\u001b[39m masks \u001b[34mstats\u001b[39m::filter()\n",
      "\u001b[31m✖\u001b[39m \u001b[34mdplyr\u001b[39m::\u001b[32mlag()\u001b[39m    masks \u001b[34mstats\u001b[39m::lag()\n",
      "\u001b[36mℹ\u001b[39m Use the conflicted package (\u001b[3m\u001b[34m<http://conflicted.r-lib.org/>\u001b[39m\u001b[23m) to force all conflicts to become errors\n"
     ]
    },
    {
     "name": "stdout",
     "output_type": "stream",
     "text": [
      "\n",
      " \u001b[1;31m Updated fungioutline: March 15, 2025 \u001b[0m \n"
     ]
    }
   ],
   "source": [
    "library(fungioutline)"
   ]
  },
  {
   "cell_type": "code",
   "execution_count": 4,
   "id": "3ff6565a-bfcc-4997-b721-752abd71518a",
   "metadata": {},
   "outputs": [],
   "source": [
    "# define functions\n",
    "rank_suffix <- function() {\n",
    "    # Create a table, rank name and the suffixes\n",
    "    suffix <- c(\"aceae\", \"ales\", \"mycetidae\", \"mycetes\", \"mycota\", \"mycotina\")\n",
    "    names(suffix) <- c(\"Family\", \"Order\", \"Subclass\", \"Class\", \"Subphylum\", \"Phylum\")\n",
    "    suffix %>% as.data.frame() %>% rownames_to_column(var = \"Rank\") %>% rename(Suffix=2)-> suffix_tbl\n",
    "    return(suffix_tbl)\n",
    "}"
   ]
  },
  {
   "cell_type": "code",
   "execution_count": 5,
   "id": "99b24c13-c1c8-46dc-8ff4-3200c3047ee5",
   "metadata": {},
   "outputs": [
    {
     "data": {
      "text/html": [
       "<table class=\"dataframe\">\n",
       "<caption>A data.frame: 6 × 2</caption>\n",
       "<thead>\n",
       "\t<tr><th scope=col>Rank</th><th scope=col>Suffix</th></tr>\n",
       "\t<tr><th scope=col>&lt;chr&gt;</th><th scope=col>&lt;chr&gt;</th></tr>\n",
       "</thead>\n",
       "<tbody>\n",
       "\t<tr><td>Family   </td><td>aceae    </td></tr>\n",
       "\t<tr><td>Order    </td><td>ales     </td></tr>\n",
       "\t<tr><td>Subclass </td><td>mycetidae</td></tr>\n",
       "\t<tr><td>Class    </td><td>mycetes  </td></tr>\n",
       "\t<tr><td>Subphylum</td><td>mycota   </td></tr>\n",
       "\t<tr><td>Phylum   </td><td>mycotina </td></tr>\n",
       "</tbody>\n",
       "</table>\n"
      ],
      "text/latex": [
       "A data.frame: 6 × 2\n",
       "\\begin{tabular}{ll}\n",
       " Rank & Suffix\\\\\n",
       " <chr> & <chr>\\\\\n",
       "\\hline\n",
       "\t Family    & aceae    \\\\\n",
       "\t Order     & ales     \\\\\n",
       "\t Subclass  & mycetidae\\\\\n",
       "\t Class     & mycetes  \\\\\n",
       "\t Subphylum & mycota   \\\\\n",
       "\t Phylum    & mycotina \\\\\n",
       "\\end{tabular}\n"
      ],
      "text/markdown": [
       "\n",
       "A data.frame: 6 × 2\n",
       "\n",
       "| Rank &lt;chr&gt; | Suffix &lt;chr&gt; |\n",
       "|---|---|\n",
       "| Family    | aceae     |\n",
       "| Order     | ales      |\n",
       "| Subclass  | mycetidae |\n",
       "| Class     | mycetes   |\n",
       "| Subphylum | mycota    |\n",
       "| Phylum    | mycotina  |\n",
       "\n"
      ],
      "text/plain": [
       "  Rank      Suffix   \n",
       "1 Family    aceae    \n",
       "2 Order     ales     \n",
       "3 Subclass  mycetidae\n",
       "4 Class     mycetes  \n",
       "5 Subphylum mycota   \n",
       "6 Phylum    mycotina "
      ]
     },
     "metadata": {},
     "output_type": "display_data"
    }
   ],
   "source": [
    "rank_suffix()"
   ]
  },
  {
   "cell_type": "code",
   "execution_count": 6,
   "id": "b654554c-dbac-4750-88b2-10991aa3d64d",
   "metadata": {},
   "outputs": [],
   "source": [
    "rank_suffix <- function() {\n",
    "  # Vector of standardized suffixes for fungal taxonomic ranks\n",
    "  suffix <- c(\"aceae\", \"ales\", \"mycetidae\", \"mycetes\", \"mycota\", \"mycotina\")\n",
    "  \n",
    "  # Named vector mapping ranks to suffixes\n",
    "  names(suffix) <- c(\"Family\", \"Order\", \"Subclass\", \"Class\", \"Phylum\", \"Subphylum\")\n",
    "  \n",
    "  return(suffix)\n",
    "}"
   ]
  },
  {
   "cell_type": "code",
   "execution_count": 7,
   "id": "d9707388-da30-4d11-9091-cd712277803d",
   "metadata": {},
   "outputs": [],
   "source": [
    "phylum_lst <- function() {\n",
    "  # Vector of standardized suffixes for fungal taxonomic ranks\n",
    "  outline %>% select(Phyla) %>% filter(!grepl(pattern = \"sedis\", Phyla)) %>% \n",
    "    unique() %>% add_rownames(\"Index\") %>% mutate(Index=as.integer(Index)) -> Phyla_tbl\n",
    "  return(Phyla_tbl)\n",
    "}"
   ]
  },
  {
   "cell_type": "code",
   "execution_count": 8,
   "id": "74bb41d1-7768-45a1-a538-7f4758d69aeb",
   "metadata": {},
   "outputs": [
    {
     "name": "stderr",
     "output_type": "stream",
     "text": [
      "Warning message:\n",
      "\"\u001b[1m\u001b[22m`add_rownames()` was deprecated in dplyr 1.0.0.\n",
      "\u001b[36mℹ\u001b[39m Please use `tibble::rownames_to_column()` instead.\"\n"
     ]
    },
    {
     "data": {
      "text/html": [
       "<table class=\"dataframe\">\n",
       "<caption>A tibble: 19 × 2</caption>\n",
       "<thead>\n",
       "\t<tr><th scope=col>Index</th><th scope=col>Phyla</th></tr>\n",
       "\t<tr><th scope=col>&lt;int&gt;</th><th scope=col>&lt;chr&gt;</th></tr>\n",
       "</thead>\n",
       "<tbody>\n",
       "\t<tr><td> 1</td><td>Aphelidiomycota       </td></tr>\n",
       "\t<tr><td> 2</td><td>Basidiobolomycota     </td></tr>\n",
       "\t<tr><td> 3</td><td>Blastocladiomycota    </td></tr>\n",
       "\t<tr><td> 4</td><td>Sanchytriomycota      </td></tr>\n",
       "\t<tr><td> 5</td><td>Chytridiomycota       </td></tr>\n",
       "\t<tr><td> 6</td><td>Monoblepharomycota    </td></tr>\n",
       "\t<tr><td> 7</td><td>Neocallimastigomycota </td></tr>\n",
       "\t<tr><td> 8</td><td>Ascomycota            </td></tr>\n",
       "\t<tr><td> 9</td><td>Basidiomycota         </td></tr>\n",
       "\t<tr><td>10</td><td>Entorrhizomycota      </td></tr>\n",
       "\t<tr><td>11</td><td>Calcarisporiellomycota</td></tr>\n",
       "\t<tr><td>12</td><td>Glomeromycota         </td></tr>\n",
       "\t<tr><td>13</td><td>Mortierellomycota     </td></tr>\n",
       "\t<tr><td>14</td><td>Mucoromycota          </td></tr>\n",
       "\t<tr><td>15</td><td>Olpidiomycota         </td></tr>\n",
       "\t<tr><td>16</td><td>Rozellomycota         </td></tr>\n",
       "\t<tr><td>17</td><td>Entomophthoromycota   </td></tr>\n",
       "\t<tr><td>18</td><td>Kickxellomycota       </td></tr>\n",
       "\t<tr><td>19</td><td>Zoopagomycota         </td></tr>\n",
       "</tbody>\n",
       "</table>\n"
      ],
      "text/latex": [
       "A tibble: 19 × 2\n",
       "\\begin{tabular}{ll}\n",
       " Index & Phyla\\\\\n",
       " <int> & <chr>\\\\\n",
       "\\hline\n",
       "\t  1 & Aphelidiomycota       \\\\\n",
       "\t  2 & Basidiobolomycota     \\\\\n",
       "\t  3 & Blastocladiomycota    \\\\\n",
       "\t  4 & Sanchytriomycota      \\\\\n",
       "\t  5 & Chytridiomycota       \\\\\n",
       "\t  6 & Monoblepharomycota    \\\\\n",
       "\t  7 & Neocallimastigomycota \\\\\n",
       "\t  8 & Ascomycota            \\\\\n",
       "\t  9 & Basidiomycota         \\\\\n",
       "\t 10 & Entorrhizomycota      \\\\\n",
       "\t 11 & Calcarisporiellomycota\\\\\n",
       "\t 12 & Glomeromycota         \\\\\n",
       "\t 13 & Mortierellomycota     \\\\\n",
       "\t 14 & Mucoromycota          \\\\\n",
       "\t 15 & Olpidiomycota         \\\\\n",
       "\t 16 & Rozellomycota         \\\\\n",
       "\t 17 & Entomophthoromycota   \\\\\n",
       "\t 18 & Kickxellomycota       \\\\\n",
       "\t 19 & Zoopagomycota         \\\\\n",
       "\\end{tabular}\n"
      ],
      "text/markdown": [
       "\n",
       "A tibble: 19 × 2\n",
       "\n",
       "| Index &lt;int&gt; | Phyla &lt;chr&gt; |\n",
       "|---|---|\n",
       "|  1 | Aphelidiomycota        |\n",
       "|  2 | Basidiobolomycota      |\n",
       "|  3 | Blastocladiomycota     |\n",
       "|  4 | Sanchytriomycota       |\n",
       "|  5 | Chytridiomycota        |\n",
       "|  6 | Monoblepharomycota     |\n",
       "|  7 | Neocallimastigomycota  |\n",
       "|  8 | Ascomycota             |\n",
       "|  9 | Basidiomycota          |\n",
       "| 10 | Entorrhizomycota       |\n",
       "| 11 | Calcarisporiellomycota |\n",
       "| 12 | Glomeromycota          |\n",
       "| 13 | Mortierellomycota      |\n",
       "| 14 | Mucoromycota           |\n",
       "| 15 | Olpidiomycota          |\n",
       "| 16 | Rozellomycota          |\n",
       "| 17 | Entomophthoromycota    |\n",
       "| 18 | Kickxellomycota        |\n",
       "| 19 | Zoopagomycota          |\n",
       "\n"
      ],
      "text/plain": [
       "   Index Phyla                 \n",
       "1   1    Aphelidiomycota       \n",
       "2   2    Basidiobolomycota     \n",
       "3   3    Blastocladiomycota    \n",
       "4   4    Sanchytriomycota      \n",
       "5   5    Chytridiomycota       \n",
       "6   6    Monoblepharomycota    \n",
       "7   7    Neocallimastigomycota \n",
       "8   8    Ascomycota            \n",
       "9   9    Basidiomycota         \n",
       "10 10    Entorrhizomycota      \n",
       "11 11    Calcarisporiellomycota\n",
       "12 12    Glomeromycota         \n",
       "13 13    Mortierellomycota     \n",
       "14 14    Mucoromycota          \n",
       "15 15    Olpidiomycota         \n",
       "16 16    Rozellomycota         \n",
       "17 17    Entomophthoromycota   \n",
       "18 18    Kickxellomycota       \n",
       "19 19    Zoopagomycota         "
      ]
     },
     "metadata": {},
     "output_type": "display_data"
    }
   ],
   "source": [
    "phylum_lst()"
   ]
  },
  {
   "cell_type": "code",
   "execution_count": 9,
   "id": "04f0b583-e82e-4c75-bcea-22b8ca75b60b",
   "metadata": {},
   "outputs": [],
   "source": [
    "summary_outline <- function(rank = \"Phylum\") {\n",
    "  #' Count subordinate taxa within a given taxonomic rank in fungal classification\n",
    "  #'\n",
    "  #' @param rank Character specifying taxonomic rank to analyze (\"Phylum\", \"Class\", etc.)\n",
    "  #' @return A data frame showing parent taxa and counts of their immediate subordinates\n",
    "  #' @examples\n",
    "  #' summary_outline(\"Phylum\")  # Count classes per phylum\n",
    "  #' summary_outline(\"Order\")   # Count families per order\n",
    "  \n",
    "  # Load suffix lookup table (rank -> naming suffix)\n",
    "  suffix_tbl <- rank_suffix()\n",
    "  \n",
    "  # Input validation - ensure requested rank is valid\n",
    "  valid_ranks <- names(suffix_tbl)\n",
    "  if (!rank %in% valid_ranks) {\n",
    "    stop(paste(\"Invalid rank. Choose from:\",\n",
    "               paste(valid_ranks, collapse = \", \")))\n",
    "  }\n",
    "  \n",
    "  # Get naming suffix for target rank (e.g., \"-mycota\" for Phylum)\n",
    "  target_suffix <- suffix_tbl[rank]\n",
    "  \n",
    "  # DEMO DATA - Replace with your actual taxonomy data\n",
    "  # Expected columns: \n",
    "  # - name: Taxon name (e.g., \"Ascomycota\")\n",
    "  # - rank: Taxonomic rank (e.g., \"Phylum\")\n",
    "  # - parent: Optional column for direct parent linkage\n",
    "  taxa_data <- data.frame(\n",
    "    name = c(\"Ascomycota\", \"Basidiomycota\", \"Agaricomycetes\", \n",
    "             \"Sordariomycetes\", \"Agaricales\", \"Pucciniales\"),\n",
    "    rank = c(\"Phylum\", \"Phylum\", \"Class\", \"Class\", \"Order\", \"Order\")\n",
    "  )\n",
    "  \n",
    "  # Calculate subordinate counts\n",
    "  result <- taxa_data %>%\n",
    "    # Filter for taxa at the rank immediately below input rank\n",
    "    filter(rank == names(suffix_tbl)[which(suffix_tbl == target_suffix)]) %>%\n",
    "    \n",
    "    # Extract parent taxa by removing rank-specific suffix\n",
    "    mutate(parent = sub(paste0(target_suffix, \"$\"), \"\", name)) %>%\n",
    "    \n",
    "    # Count subordinates per parent\n",
    "    count(parent) %>%\n",
    "    \n",
    "    # Rename columns dynamically\n",
    "    rename(!!rank := parent,  # Parent taxon column gets input rank name\n",
    "           n_subtaxa = n)     # Standardized count column name\n",
    "  \n",
    "  return(result)\n",
    "}"
   ]
  },
  {
   "cell_type": "code",
   "execution_count": null,
   "id": "fb22fb17-d925-4f32-821c-25a337a1ced9",
   "metadata": {},
   "outputs": [],
   "source": []
  },
  {
   "cell_type": "code",
   "execution_count": null,
   "id": "286ac448-44f6-43fa-8edf-4533b0878881",
   "metadata": {},
   "outputs": [],
   "source": []
  }
 ],
 "metadata": {
  "kernelspec": {
   "display_name": "R",
   "language": "R",
   "name": "ir"
  },
  "language_info": {
   "codemirror_mode": "r",
   "file_extension": ".r",
   "mimetype": "text/x-r-source",
   "name": "R",
   "pygments_lexer": "r",
   "version": "4.3.1"
  }
 },
 "nbformat": 4,
 "nbformat_minor": 5
}
